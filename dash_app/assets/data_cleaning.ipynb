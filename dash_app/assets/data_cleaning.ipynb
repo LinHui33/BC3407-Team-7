{
 "cells": [
  {
   "cell_type": "code",
   "execution_count": 97,
   "outputs": [
    {
     "name": "stderr",
     "output_type": "stream",
     "text": [
      "/var/folders/v2/kgjl826x1t79f1gml7fg_08h0000gn/T/ipykernel_5831/2238971926.py:23: FutureWarning: Series.dt.weekofyear and Series.dt.week have been deprecated.  Please use Series.dt.isocalendar().week instead.\n",
      "  df['Appointment Week Number'] = df['Appointment'].dt.week\n",
      "/Users/chunpu/Desktop/venv_bc3407/lib/python3.9/site-packages/pandas/core/generic.py:2872: UserWarning: The spaces in these column names will not be changed. In pandas versions < 0.14, spaces were converted to underscores.\n",
      "  sql.to_sql(\n"
     ]
    },
    {
     "name": "stdout",
     "output_type": "stream",
     "text": [
      "              Register Time          Appointment Day Sms_Reminder  Waiting Time Show Up Appointment Month Appointment Week Number  Age Gender Diabetes Drinks HyperTension Handicap Smoker Scholarship Tuberculosis\n",
      "0       2013-11-08 11:45...  2014-01-03 00:00...   5            1            56       1                 1                    1       0      0        0      0            0        0      0           0            0\n",
      "1       2013-11-25 09:58...  2014-01-06 00:00...   1            0            42       1                 1                    2       0      0        0      0            0        0      0           0            0\n",
      "2       2013-11-26 11:08...  2014-01-07 00:00...   2            1            42       1                 1                    2       0      0        0      0            0        0      0           0            0\n",
      "3       2013-11-29 11:24...  2014-01-03 00:00...   5            1            35       1                 1                    1       0      0        0      0            0        0      0           0            0\n",
      "4       2013-12-02 12:29...  2014-01-08 00:00...   3            0            37       1                 1                    2       0      0        0      0            0        0      0           0            0\n",
      "...                     ...                  ...  ..          ...           ...     ...               ...                  ...     ...    ...      ...    ...          ...      ...    ...         ...          ...\n",
      "299989  2014-01-09 10:23...  2014-01-14 00:00...   2            1             5       1                 1                    3     104      0        1      0            1        0      0           0            0\n",
      "299990  2014-08-19 13:37...  2014-08-20 00:00...   3            0             1       1                 8                   34     108      0        0      0            0        0      1           0            0\n",
      "299991  2014-09-11 15:11...  2014-09-12 00:00...   5            0             1       0                 9                   37     113      0        0      0            0        1      0           0            0\n",
      "299992  2013-12-26 13:38...  2014-01-09 00:00...   4            1            14       1                 1                    2     113      0        0      0            1        0      0           0            0\n",
      "299993  2014-01-30 15:42...  2014-02-04 00:00...   2            0             5       1                 2                    6     113      0        0      0            1        0      0           0            0\n",
      "\n",
      "[299994 rows x 17 columns]\n"
     ]
    }
   ],
   "source": [
    "import pandas as pd\n",
    "import sqlite3\n",
    "\n",
    "pd.set_option('display.max_columns', None)\n",
    "pd.set_option('display.max_rows', 20)\n",
    "pd.set_option('display.width', 300)\n",
    "pd.set_option('max_colwidth', 20)\n",
    "\n",
    "df = pd.read_csv('https://raw.githubusercontent.com/ongcp97/BC3407-Team-7/main/appointmentData.csv')\n",
    "df['Show Up'] = df['Show Up'].replace('Yes', 1).replace('No', 0)\n",
    "df['Gender'] = df['Gender'].replace('M', 1).replace('F', 0)\n",
    "df['Day'] = df['Day'].replace(['Monday', 'Tuesday', 'Wednesday', 'Thursday', 'Friday', 'Saturday', 'Sunday'],\n",
    "                              [1, 2, 3, 4, 5, 6, 7])\n",
    "\n",
    "df['Waiting Time'] = df['Waiting Time'] * -1  # inverse sign of waiting time\n",
    "df = df[~df['Age'] < 0]  # remove negative ages\n",
    "df['Handicap'] = df['Handicap'].replace([2, 3, 4], 1)  # Replace handicap >1 with handicap==1\n",
    "df['Register Time'] = pd.to_datetime(df['Register Time'])\n",
    "df = df.rename({'Apointment': 'Appointment'}, axis=1)\n",
    "df['Appointment'] = pd.to_datetime(df['Appointment'])\n",
    "\n",
    "df['Appointment Month'] = df['Appointment'].dt.month\n",
    "df['Appointment Week Number'] = df['Appointment'].dt.week\n",
    "\n",
    "cols = ['Gender', 'Day', 'Diabetes', 'Drinks', 'HyperTension', 'Handicap', 'Smoker', 'Scholarship', 'Tuberculosis',\n",
    "        'Sms_Reminder', 'Show Up', 'Appointment Week Number', 'Appointment Month']\n",
    "df.loc[:, cols] = df.loc[:, cols].astype('category')\n",
    "# print(df.info())\n",
    "\n",
    "# Each row is an Appointment ID, sorted by registered time\n",
    "df = df.sort_values(by=['Register Time'], ascending=True).reset_index(drop=True)\n",
    "df = df.reset_index(drop=False)\n",
    "df = df.rename({'index': 'appointment_id'}, axis=1)\n",
    "\n",
    "# Creating User IDs for Appointments\n",
    "comparison = ['Age', 'Gender', 'Diabetes', 'Drinks', 'HyperTension', 'Handicap', 'Smoker', 'Scholarship',\n",
    "              'Tuberculosis']\n",
    "df['user_id'] = df.groupby(comparison).ngroup()\n",
    "df = df.sort_values(by=['user_id', 'appointment_id'], ascending=True)\n",
    "\n",
    "#normalizing tables into (1) users table (2) appointments table\n",
    "\n",
    "df_users = df[['user_id'] + comparison]\n",
    "df_users = df_users.drop_duplicates(subset=['user_id'] + comparison, keep='first')\n",
    "\n",
    "appt_cols = ['appointment_id', 'user_id', 'Register Time', 'Appointment', 'Day', 'Sms_Reminder', 'Waiting Time',\n",
    "             'Show Up', 'Appointment Month', 'Appointment Week Number']\n",
    "df_appointments = df[appt_cols]\n",
    "\n",
    "# df_machine_learning = pd.merge(df_appointments, df_users, on='user_id').drop(['appointment_id', 'user_id'], axis=1)\n",
    "\n",
    "# df_users.to_csv('df_users.csv',index=False)\n",
    "# df_appointments.to_csv('df_appointments.csv',index=False)\n",
    "# df_machine_learning.to_csv('df_machine_learning.csv',index=False)\n",
    "\n",
    "# Transferring to sqlite\n",
    "conn = sqlite3.connect('hospital_database.db')\n",
    "c = conn.cursor()\n",
    "df_users.to_sql('users', conn, if_exists='replace', index=False)\n",
    "df_appointments.to_sql('appointments', conn, if_exists='replace', index=False)\n",
    "conn.commit()\n",
    "\n",
    "\n",
    "# for machine_learning\n",
    "df = pd.read_sql('SELECT * FROM appointments left join users using (user_id);',\n",
    "                 conn,\n",
    "                 ).drop(['appointment_id', 'user_id'], axis=1)\n",
    "print(df)\n"
   ],
   "metadata": {
    "collapsed": false,
    "pycharm": {
     "name": "#%%\n"
    }
   }
  },
  {
   "cell_type": "code",
   "execution_count": 97,
   "outputs": [],
   "source": [],
   "metadata": {
    "collapsed": false,
    "pycharm": {
     "name": "#%%\n"
    }
   }
  },
  {
   "cell_type": "code",
   "execution_count": 97,
   "outputs": [],
   "source": [],
   "metadata": {
    "collapsed": false,
    "pycharm": {
     "name": "#%%\n"
    }
   }
  }
 ],
 "metadata": {
  "kernelspec": {
   "display_name": "Python 3",
   "language": "python",
   "name": "python3"
  },
  "language_info": {
   "codemirror_mode": {
    "name": "ipython",
    "version": 2
   },
   "file_extension": ".py",
   "mimetype": "text/x-python",
   "name": "python",
   "nbconvert_exporter": "python",
   "pygments_lexer": "ipython2",
   "version": "2.7.6"
  }
 },
 "nbformat": 4,
 "nbformat_minor": 0
}