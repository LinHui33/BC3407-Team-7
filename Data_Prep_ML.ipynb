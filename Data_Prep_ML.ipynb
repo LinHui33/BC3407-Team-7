{
 "cells": [
  {
   "cell_type": "markdown",
   "source": [
    "##Data Dictionary\n",
    "Age: age of patient\n",
    "Gender: M or F\n",
    "Register Time: date and time appointment was made\n",
    "Apointment: date of appointment\n",
    "Day: day of the week of appointment\n",
    "\n",
    "Diabetes: 0 or 1 for condition (1 means patient was scheduled to treat condition)\n",
    "Drinks: 0 or 1 for alcoholism\n",
    "Hypertension: 0 or 1 for condition\n",
    "Handicap: 0 or 1 for condition\n",
    "\n",
    "Smoker: 0 or 1 for smoker / non-smoker\n",
    "Scholarship: 0 or 1 indicating whether the family of the patient takes part in the Bolsa Familia Program, an initiative that provides families with small cash transfers in exchange for keeping children in school and completing health care visits\n",
    "\n",
    "Tuberculosis: 1 or 0 for condition (1 means patient was scheduled to treat condition)\n",
    "Sms_Reminder: 0 ,1 ,2 for number of text message reminders sent to patient about appointment\n",
    "WaitingTime: integer number of days between when the appointment waade and when the appointment took place.\n",
    "\n",
    "Show Up: Yes or No\n",
    "\n",
    "** Information on scholarship\n",
    "https://www.worldbank.org/en/news/opinion/2013/11/04/bolsa-familia-Brazil-quiet-revolution"
   ],
   "metadata": {
    "collapsed": false
   }
  },
  {
   "cell_type": "markdown",
   "source": [
    "DATA CLEANING"
   ],
   "metadata": {
    "collapsed": false
   }
  },
  {
   "cell_type": "code",
   "execution_count": 18,
   "outputs": [],
   "source": [
    "import pandas as pd\n",
    "import sqlite3\n",
    "from werkzeug.security import generate_password_hash\n",
    "pd.set_option('display.max_columns', None)\n",
    "pd.set_option('display.max_rows', 20)\n",
    "pd.set_option('display.width', 300)\n",
    "pd.set_option('max_colwidth', 20)"
   ],
   "metadata": {
    "collapsed": false,
    "pycharm": {
     "name": "#%%\n"
    }
   }
  },
  {
   "cell_type": "code",
   "execution_count": 29,
   "outputs": [
    {
     "name": "stderr",
     "output_type": "stream",
     "text": [
      "/var/folders/v2/kgjl826x1t79f1gml7fg_08h0000gn/T/ipykernel_96203/3042277362.py:20: FutureWarning: Series.dt.weekofyear and Series.dt.week have been deprecated.  Please use Series.dt.isocalendar().week instead.\n",
      "  df['Appointment_Week_Number'] = df['Appointment'].dt.week\n"
     ]
    }
   ],
   "source": [
    "df = pd.read_csv('https://raw.githubusercontent.com/ongcp97/BC3407-Team-7/main/appointmentData.csv')\n",
    "df = df.rename({'index': 'appointment_id',\n",
    "                'Show Up':'Show_Up',\n",
    "                'Waiting Time':'Waiting_Time',\n",
    "                'Register Time':'Register_Time',\n",
    "                }, axis=1)\n",
    "\n",
    "df['Show_Up'] = df['Show_Up'].replace('Yes', 1).replace('No', 0)\n",
    "df['Gender'] = df['Gender'].replace('M', 1).replace('F', 0)\n",
    "df['Day'] = df['Day'].replace(['Monday', 'Tuesday', 'Wednesday', 'Thursday', 'Friday', 'Saturday', 'Sunday'],\n",
    "                              [1, 2, 3, 4, 5, 6, 7])\n",
    "df['Waiting_Time'] = df['Waiting_Time'] * -1  # inverse sign of Waiting_Time\n",
    "df = df[~df['Age'] < 0]  # remove negative ages\n",
    "df['Handicap'] = df['Handicap'].replace([2, 3, 4], 1)  # Replace handicap >1 with handicap==1\n",
    "df['Register_Time'] = pd.to_datetime(df['Register_Time'])\n",
    "df = df.rename({'Apointment': 'Appointment'}, axis=1)\n",
    "df['Appointment'] = pd.to_datetime(df['Appointment'])\n",
    "\n",
    "df['Appointment_Month'] = df['Appointment'].dt.month\n",
    "df['Appointment_Week_Number'] = df['Appointment'].dt.week\n",
    "\n",
    "cols = ['Gender', 'Day', 'Diabetes', 'Drinks', 'HyperTension', 'Handicap', 'Smoker', 'Scholarship', 'Tuberculosis',\n",
    "        'Sms_Reminder', 'Show_Up', 'Appointment_Week_Number', 'Appointment_Month']\n",
    "df.loc[:, cols] = df.loc[:, cols].astype('category')\n",
    "# print(df.info())"
   ],
   "metadata": {
    "collapsed": false,
    "pycharm": {
     "name": "#%%\n"
    }
   }
  },
  {
   "cell_type": "markdown",
   "source": [
    "NORMALIZING DATA for PATIENTS, APPOINTMENTS + Generate USERS tables in sqlite DB"
   ],
   "metadata": {
    "collapsed": false
   }
  },
  {
   "cell_type": "code",
   "execution_count": 20,
   "outputs": [],
   "source": [
    "df1 = df.copy()\n",
    "\n",
    "# Each row is an Appointment ID, sorted by registered time\n",
    "df1 = df1.sort_values(by=['Register_Time'], ascending=True).reset_index(drop=True)\n",
    "df1 = df1.reset_index(drop=False)\n",
    "df1 = df1.rename({'index': 'appointment_id',\n",
    "                }, axis=1)\n",
    "\n",
    "# Creating Patient IDs for Appointments\n",
    "comparison = ['Age', 'Gender', 'Diabetes', 'Drinks', 'HyperTension', 'Handicap', 'Smoker', 'Scholarship',\n",
    "              'Tuberculosis']\n",
    "df1['patient_id'] = df1.groupby(comparison).ngroup()\n",
    "first_appts = df1.groupby(['patient_id'])['Appointment'].min().reset_index(drop=False)\n",
    "first_appts.columns = ['patient_id','first_appt']\n",
    "df1 = df1.merge(first_appts,how='left',on='patient_id')\n",
    "df1 = df1.sort_values(by=['patient_id', 'appointment_id'], ascending=True)\n",
    "\n",
    "#normalizing tables into (1) patients table (2) appointments table\n",
    "df1_patients = df1[['patient_id','first_appt'] + comparison]\n",
    "df1_patients = df1_patients.drop_duplicates(subset=['patient_id'] + comparison, keep='first')\n",
    "\n",
    "appt_cols = ['appointment_id', 'patient_id', 'Register_Time', 'Appointment', 'Day', 'Sms_Reminder', 'Waiting_Time',\n",
    "             'Show_Up', 'Appointment_Month', 'Appointment_Week_Number']\n",
    "df1_appointments = df1[appt_cols]\n",
    "\n",
    "# Transferring to sqlite\n",
    "conn = sqlite3.connect('dash_app/assets/hospital_database.db')\n",
    "c = conn.cursor()\n",
    "df1_patients.to_sql('patients', conn, if_exists='replace', index=False)\n",
    "df1_appointments.to_sql('appointments', conn, if_exists='replace', index=False)\n",
    "\n",
    "# Initializing Data Portal Login User Accounts\n",
    "login_df1 = pd.DataFrame([['admin', 0, generate_password_hash('admin1234')],\n",
    "                         ['nurse', 1, generate_password_hash('nurse1234')],\n",
    "                         ],\n",
    "                        columns=['user_id', 'access_level', 'password'])\n",
    "login_df1.to_sql('users', conn, if_exists='replace', index=False)\n",
    "conn.commit()"
   ],
   "metadata": {
    "collapsed": false,
    "pycharm": {
     "name": "#%%\n"
    }
   }
  },
  {
   "cell_type": "markdown",
   "source": [
    "CART MODEL"
   ],
   "metadata": {
    "collapsed": false
   }
  },
  {
   "cell_type": "code",
   "execution_count": 21,
   "outputs": [],
   "source": [
    "from sklearn.metrics import classification_report, confusion_matrix, accuracy_score\n",
    "from sklearn.model_selection import train_test_split\n",
    "import numpy\n",
    "from sklearn import preprocessing,tree"
   ],
   "metadata": {
    "collapsed": false,
    "pycharm": {
     "name": "#%%\n"
    }
   }
  },
  {
   "cell_type": "code",
   "execution_count": 22,
   "outputs": [
    {
     "name": "stdout",
     "output_type": "stream",
     "text": [
      "Decision Tree\n",
      "================================\n",
      "[[ 62619    782]\n",
      " [  4773 141821]]\n",
      "Decsion Tree TrainSet: Accurarcy 97.35%\n",
      "================================\n",
      "[[ 9969 17359]\n",
      " [20047 42624]]\n",
      "Decision Tree Testset: Accurarcy 58.44%\n",
      "================================\n"
     ]
    },
    {
     "data": {
      "text/plain": "['dash_app/assets/Cart Model']"
     },
     "execution_count": 22,
     "metadata": {},
     "output_type": "execute_result"
    }
   ],
   "source": [
    "df_cart = df.copy()\n",
    "df_cart = df_cart[[c for c in df.columns if c not in ['Show_Up','Appointment','Register_Time']]+['Show_Up']]\n",
    "df_cart = df_cart.reset_index(drop=True)\n",
    "Y_position = len(df_cart.columns)-1 # Last column = Show Up\n",
    "\n",
    "# fix random seed for reproducibility\n",
    "numpy.random.seed(7)\n",
    "\n",
    "# Train Test Split\n",
    "X = df_cart.iloc[:, 0:Y_position]\n",
    "    # Day Sms_Reminder  Waiting_Time Appointment_Month Appointment_Week_Number  Age Gender Diabetes Drinks HyperTension Handicap Smoker Scholarship Tuberculosis\n",
    "Y = df_cart.iloc[:, Y_position]\n",
    "    # Show_Up\n",
    "X_train, X_test, y_train, y_test = train_test_split(X, Y, test_size=0.30, random_state=2020)\n",
    "\n",
    "# Normalizing X-variables\n",
    "scaler = preprocessing.StandardScaler().fit(X_train)\n",
    "scaled_X_train = scaler.transform(X_train)\n",
    "scaled_X_test = scaler.transform(X_test)\n",
    "\n",
    "# create model\n",
    "clf = tree.DecisionTreeClassifier()\n",
    "clf = clf.fit(scaled_X_train, y_train)\n",
    "y_pred_train2 = clf.predict(scaled_X_train)\n",
    "cm2_train = confusion_matrix(y_train,y_pred_train2)\n",
    "print(\"Decision Tree\")\n",
    "print(\"================================\")\n",
    "print(cm2_train)\n",
    "acc_train2 = (cm2_train[0,0] + cm2_train[1,1]) / sum(sum(cm2_train))\n",
    "print(\"Decsion Tree TrainSet: Accurarcy %.2f%%\" % (acc_train2*100))\n",
    "print(\"================================\") # 97.38%\n",
    "y_pred2 = clf.predict(scaled_X_test)\n",
    "cm2 = confusion_matrix(y_test,y_pred2)\n",
    "acc2 = (cm2[0,0] + cm2[1,1]) / sum(sum(cm2))\n",
    "print(cm2)\n",
    "print(\"Decision Tree Testset: Accurarcy %.2f%%\" % (acc2*100))\n",
    "print(\"================================\") # 58.40%\n",
    "\n",
    "#save the model to a file\n",
    "import joblib\n",
    "joblib.dump(clf, \"dash_app/assets/Cart Model\")\n"
   ],
   "metadata": {
    "collapsed": false,
    "pycharm": {
     "name": "#%%\n"
    }
   }
  },
  {
   "cell_type": "code",
   "execution_count": 32,
   "outputs": [
    {
     "name": "stdout",
     "output_type": "stream",
     "text": [
      "0.8567338013426935\n"
     ]
    }
   ],
   "source": [
    "# Test Run of trained CART Model\n",
    "import joblib\n",
    "loaded_model = joblib.load('dash_app/assets/Cart Model')\n",
    "trial_prediction=df.copy()\n",
    "trial_prediction = trial_prediction[[c for c in df.columns if c not in ['Show_Up','Appointment','Register_Time']]+['Show_Up']]\n",
    "trial_prediction = trial_prediction.reset_index(drop=True)\n",
    "Y_position = len(trial_prediction.columns)-1 # Last column = Show Up\n",
    "X = trial_prediction.iloc[:, 0:Y_position]\n",
    "scaler = preprocessing.StandardScaler().fit(X)\n",
    "scaled_X_train = scaler.transform(X)\n",
    "y_pred = loaded_model.predict(scaled_X_train)\n",
    "\n",
    "new_df = df.copy()\n",
    "new_df['pred'] = y_pred\n",
    "difference = abs(new_df['pred'].astype(int)-new_df['Show_Up'].astype(int)).sum()\n",
    "accuracy = (len(df.index)-difference)/(len(df.index))\n",
    "print(accuracy)\n",
    "# df.to_csv('dash_app/assets/trial_prediction.csv',index=False)"
   ],
   "metadata": {
    "collapsed": false,
    "pycharm": {
     "name": "#%%\n"
    }
   }
  },
  {
   "cell_type": "code",
   "execution_count": null,
   "outputs": [],
   "source": [],
   "metadata": {
    "collapsed": false,
    "pycharm": {
     "name": "#%%\n"
    }
   }
  }
 ],
 "metadata": {
  "kernelspec": {
   "display_name": "Python 3",
   "language": "python",
   "name": "python3"
  },
  "language_info": {
   "codemirror_mode": {
    "name": "ipython",
    "version": 2
   },
   "file_extension": ".py",
   "mimetype": "text/x-python",
   "name": "python",
   "nbconvert_exporter": "python",
   "pygments_lexer": "ipython2",
   "version": "2.7.6"
  }
 },
 "nbformat": 4,
 "nbformat_minor": 0
}